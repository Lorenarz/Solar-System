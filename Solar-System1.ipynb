{
 "cells": [
  {
   "cell_type": "code",
   "execution_count": 1,
   "metadata": {},
   "outputs": [],
   "source": [
    "#JPL Horizons\n",
    "from astroquery.jplhorizons import Horizons"
   ]
  },
  {
   "cell_type": "code",
   "execution_count": 8,
   "metadata": {},
   "outputs": [
    {
     "name": "stdout",
     "output_type": "stream",
     "text": [
      "JPLHorizons instance \"ceres\"; location=568, epochs=[2458133.33546], id_type=smallbody\n"
     ]
    }
   ],
   "source": [
    "obj = Horizons(id='ceres', location='568', epochs=2458133.33546)\n",
    "print(obj)"
   ]
  },
  {
   "cell_type": "code",
   "execution_count": 14,
   "metadata": {},
   "outputs": [],
   "source": [
    "statue_of_liberty = {'lon': -74.0466891,\n",
    "                      'lat': 40.6892534,\n",
    "                      'elevation': 0.093}"
   ]
  },
  {
   "cell_type": "code",
   "execution_count": 17,
   "metadata": {},
   "outputs": [],
   "source": [
    "obj = Horizons(id='Ceres',\n",
    "                location=statue_of_liberty,\n",
    "                epochs=2458133.33546)"
   ]
  },
  {
   "cell_type": "code",
   "execution_count": 19,
   "metadata": {},
   "outputs": [
    {
     "name": "stdout",
     "output_type": "stream",
     "text": [
      "JPLHorizons instance \"Ceres\"; location={'lon': -74.0466891, 'lat': 40.6892534, 'elevation': 0.093}, epochs=[2458133.33546], id_type=smallbody\n"
     ]
    }
   ],
   "source": [
    "print (obj)"
   ]
  },
  {
   "cell_type": "code",
   "execution_count": 8,
   "metadata": {},
   "outputs": [
    {
     "name": "stdout",
     "output_type": "stream",
     "text": [
      "targetname    datetime_str   datetime_jd  H   ... alpha_true  PABLon  PABLat\n",
      "   ---            ---             d      mag  ...    deg       deg     deg  \n",
      "---------- ----------------- ----------- ---- ... ---------- -------- ------\n",
      "   1 Ceres 2010-Jan-01 00:00   2455197.5 3.34 ...    12.3609 238.2494 4.5532\n",
      "   1 Ceres 2010-Jan-11 00:00   2455207.5 3.34 ...    14.1057 241.3339 4.2832\n",
      "   1 Ceres 2010-Jan-21 00:00   2455217.5 3.34 ...    15.7313 244.3394 4.0089\n",
      "   1 Ceres 2010-Jan-31 00:00   2455227.5 3.34 ...    17.2067 247.2518 3.7289\n",
      "   1 Ceres 2010-Feb-10 00:00   2455237.5 3.34 ...    18.5029 250.0576 3.4415\n",
      "   1 Ceres 2010-Feb-20 00:00   2455247.5 3.34 ...    19.5814 252.7383 3.1451\n"
     ]
    }
   ],
   "source": [
    "from astroquery.jplhorizons import Horizons\n",
    "obj = Horizons(id='Ceres', location='568',\n",
    "                epochs={'start':'2010-01-01', 'stop':'2010-03-01',\n",
    "                        'step':'10d'})\n",
    "eph = obj.ephemerides()\n",
    "print(eph)"
   ]
  },
  {
   "cell_type": "code",
   "execution_count": 4,
   "metadata": {},
   "outputs": [
    {
     "name": "stdout",
     "output_type": "stream",
     "text": [
      "<TableColumns names=('targetname','datetime_str','datetime_jd','H','G','solar_presence','flags','RA','DEC','RA_app','DEC_app','RA_rate','DEC_rate','AZ','EL','AZ_rate','EL_rate','sat_X','sat_Y','sat_PANG','siderealtime','airmass','magextinct','V','surfbright','illumination','illum_defect','sat_sep','sat_vis','ang_width','PDObsLon','PDObsLat','PDSunLon','PDSunLat','SubSol_ang','SubSol_dist','NPole_ang','NPole_dist','EclLon','EclLat','r','r_rate','delta','delta_rate','lighttime','vel_sun','vel_obs','elong','elongFlag','alpha','lunar_elong','lunar_illum','sat_alpha','sunTargetPA','velocityPA','OrbPlaneAng','constellation','TDB-UT','ObsEclLon','ObsEclLat','NPole_RA','NPole_DEC','GlxLon','GlxLat','solartime','earth_lighttime','RA_3sigma','DEC_3sigma','SMAA_3sigma','SMIA_3sigma','Theta_3sigma','Area_3sigma','RSS_3sigma','r_3sigma','r_rate_3sigma','SBand_3sigma','XBand_3sigma','DoppDelay_3sigma','true_anom','hour_angle','alpha_true','PABLon','PABLat')>\n"
     ]
    }
   ],
   "source": [
    "print(eph.columns)"
   ]
  },
  {
   "cell_type": "code",
   "execution_count": 7,
   "metadata": {},
   "outputs": [
    {
     "name": "stdout",
     "output_type": "stream",
     "text": [
      "    targetname      datetime_jd  ...         Q                 P        \n",
      "       ---               d       ...         AU                d        \n",
      "------------------ ------------- ... ----------------- -----------------\n",
      "433 Eros (A898 PA) 2458133.33546 ... 1.782442686281048 642.9387351434226\n"
     ]
    }
   ],
   "source": [
    "from astroquery.jplhorizons import Horizons\n",
    "obj = Horizons(id='433', location='500@10',\n",
    "               epochs=2458133.33546)\n",
    "el = obj.elements()\n",
    "print(el)"
   ]
  },
  {
   "cell_type": "code",
   "execution_count": null,
   "metadata": {},
   "outputs": [],
   "source": []
  }
 ],
 "metadata": {
  "kernelspec": {
   "display_name": "Python 3",
   "language": "python",
   "name": "python3"
  },
  "language_info": {
   "codemirror_mode": {
    "name": "ipython",
    "version": 3
   },
   "file_extension": ".py",
   "mimetype": "text/x-python",
   "name": "python",
   "nbconvert_exporter": "python",
   "pygments_lexer": "ipython3",
   "version": "3.7.3"
  }
 },
 "nbformat": 4,
 "nbformat_minor": 2
}
